{
 "cells": [
  {
   "cell_type": "code",
   "execution_count": 164,
   "id": "a90476b0",
   "metadata": {},
   "outputs": [],
   "source": [
    "import pandas as pd\n",
    "data = pd.read_csv('sales_data_1.csv')"
   ]
  },
  {
   "cell_type": "code",
   "execution_count": 165,
   "id": "f43eb914",
   "metadata": {},
   "outputs": [
    {
     "data": {
      "text/html": [
       "<div>\n",
       "<style scoped>\n",
       "    .dataframe tbody tr th:only-of-type {\n",
       "        vertical-align: middle;\n",
       "    }\n",
       "\n",
       "    .dataframe tbody tr th {\n",
       "        vertical-align: top;\n",
       "    }\n",
       "\n",
       "    .dataframe thead th {\n",
       "        text-align: right;\n",
       "    }\n",
       "</style>\n",
       "<table border=\"1\" class=\"dataframe\">\n",
       "  <thead>\n",
       "    <tr style=\"text-align: right;\">\n",
       "      <th></th>\n",
       "      <th>Date</th>\n",
       "      <th>Firm bought from</th>\n",
       "      <th>Buying price</th>\n",
       "      <th>Customer</th>\n",
       "      <th>Selling price</th>\n",
       "      <th>Quantity sold</th>\n",
       "    </tr>\n",
       "  </thead>\n",
       "  <tbody>\n",
       "    <tr>\n",
       "      <th>0</th>\n",
       "      <td>21/08/23</td>\n",
       "      <td>Vendor6</td>\n",
       "      <td>72.11</td>\n",
       "      <td>Customer7</td>\n",
       "      <td>91.58</td>\n",
       "      <td>44</td>\n",
       "    </tr>\n",
       "    <tr>\n",
       "      <th>1</th>\n",
       "      <td>21/08/23</td>\n",
       "      <td>Vendor4</td>\n",
       "      <td>75.08</td>\n",
       "      <td>Customer7</td>\n",
       "      <td>83.71</td>\n",
       "      <td>17</td>\n",
       "    </tr>\n",
       "    <tr>\n",
       "      <th>2</th>\n",
       "      <td>21/08/23</td>\n",
       "      <td>Vendor7</td>\n",
       "      <td>83.93</td>\n",
       "      <td>Customer2</td>\n",
       "      <td>103.76</td>\n",
       "      <td>15</td>\n",
       "    </tr>\n",
       "    <tr>\n",
       "      <th>3</th>\n",
       "      <td>21/08/23</td>\n",
       "      <td>Vendor7</td>\n",
       "      <td>52.01</td>\n",
       "      <td>Customer3</td>\n",
       "      <td>64.53</td>\n",
       "      <td>7</td>\n",
       "    </tr>\n",
       "    <tr>\n",
       "      <th>4</th>\n",
       "      <td>21/08/23</td>\n",
       "      <td>Vendor2</td>\n",
       "      <td>98.91</td>\n",
       "      <td>Customer5</td>\n",
       "      <td>140.92</td>\n",
       "      <td>1</td>\n",
       "    </tr>\n",
       "  </tbody>\n",
       "</table>\n",
       "</div>"
      ],
      "text/plain": [
       "       Date Firm bought from  Buying price   Customer  Selling price  \\\n",
       "0  21/08/23          Vendor6         72.11  Customer7          91.58   \n",
       "1  21/08/23          Vendor4         75.08  Customer7          83.71   \n",
       "2  21/08/23          Vendor7         83.93  Customer2         103.76   \n",
       "3  21/08/23          Vendor7         52.01  Customer3          64.53   \n",
       "4  21/08/23          Vendor2         98.91  Customer5         140.92   \n",
       "\n",
       "   Quantity sold  \n",
       "0             44  \n",
       "1             17  \n",
       "2             15  \n",
       "3              7  \n",
       "4              1  "
      ]
     },
     "execution_count": 165,
     "metadata": {},
     "output_type": "execute_result"
    }
   ],
   "source": [
    "data.head()"
   ]
  },
  {
   "cell_type": "code",
   "execution_count": 178,
   "id": "770047b6",
   "metadata": {},
   "outputs": [],
   "source": [
    "# 1. Calculate overall gross margin\n",
    "data['Profit'] = data['Selling price'] - data['Buying price']\n",
    "overall_gross_margin = (data['Profit'].sum() / data['Selling price'].sum()) * 100"
   ]
  },
  {
   "cell_type": "code",
   "execution_count": 179,
   "id": "869f9c75",
   "metadata": {},
   "outputs": [],
   "source": [
    "# 2. Find the most profitable vendor\n",
    "most_profitable_vendor = data.groupby('Firm bought from')['Profit'].sum().idxmax()"
   ]
  },
  {
   "cell_type": "code",
   "execution_count": 180,
   "id": "1a63f033",
   "metadata": {},
   "outputs": [],
   "source": [
    "# 3. Find the least profitable customer\n",
    "least_profitable_customer = data.groupby('Customer')['Profit'].sum().idxmin()"
   ]
  },
  {
   "cell_type": "code",
   "execution_count": 181,
   "id": "2f2e94e7",
   "metadata": {},
   "outputs": [],
   "source": [
    "# 4. Find the most profitable day of the week\n",
    "data['Date'] = pd.to_datetime(data['Date'])\n",
    "data['DayOfWeek'] = data['Date'].dt.day_name()\n",
    "most_profitable_day = data.groupby('DayOfWeek')['Profit'].sum().idxmax()"
   ]
  },
  {
   "cell_type": "code",
   "execution_count": 182,
   "id": "6d994bcf",
   "metadata": {},
   "outputs": [],
   "source": [
    "# 5. Find the least profitable day of the week\n",
    "least_profitable_day = data.groupby('DayOfWeek')['Profit'].sum().idxmin()"
   ]
  },
  {
   "cell_type": "code",
   "execution_count": 183,
   "id": "19efe0ed",
   "metadata": {},
   "outputs": [
    {
     "name": "stdout",
     "output_type": "stream",
     "text": [
      "Overall Gross Margin: 23.33%\n",
      "Most Profitable Vendor: Vendor7\n",
      "Least Profitable Customer: Customer9\n",
      "Most Profitable Day of the Week: Monday\n",
      "Least Profitable Day of the Week: Thursday\n"
     ]
    }
   ],
   "source": [
    "print(f'Overall Gross Margin: {overall_gross_margin:.2f}%')\n",
    "print(f'Most Profitable Vendor: {most_profitable_vendor}')\n",
    "print(f'Least Profitable Customer: {least_profitable_customer}')\n",
    "print(f'Most Profitable Day of the Week: {most_profitable_day}')\n",
    "print(f'Least Profitable Day of the Week: {least_profitable_day}')"
   ]
  },
  {
   "cell_type": "code",
   "execution_count": null,
   "id": "a9f1c8d4",
   "metadata": {},
   "outputs": [],
   "source": []
  },
  {
   "cell_type": "code",
   "execution_count": 184,
   "id": "41801e2d",
   "metadata": {},
   "outputs": [],
   "source": [
    "data = pd.read_csv('sales_data_2.csv')"
   ]
  },
  {
   "cell_type": "markdown",
   "id": "cafc239d",
   "metadata": {},
   "source": [
    "6. Can you calculate a 3-day average of the daily gross profit from the sales_data_2.csv? "
   ]
  },
  {
   "cell_type": "code",
   "execution_count": 190,
   "id": "ae68712a",
   "metadata": {},
   "outputs": [
    {
     "name": "stdout",
     "output_type": "stream",
     "text": [
      "          Date  DailyProfit  3DayAvgProfit\n",
      "0   2023-08-21       856.68            NaN\n",
      "1   2023-08-21       146.71            NaN\n",
      "2   2023-08-21       297.45     433.613333\n",
      "3   2023-08-21        87.64     177.266667\n",
      "4   2023-08-21        42.01     142.366667\n",
      "..         ...          ...            ...\n",
      "65  2023-08-27       407.34     552.863333\n",
      "66  2023-08-27        84.00     552.070000\n",
      "67  2023-08-27       947.84     479.726667\n",
      "68  2023-08-27       126.44     386.093333\n",
      "69  2023-08-27        25.88     366.720000\n",
      "\n",
      "[70 rows x 3 columns]\n"
     ]
    }
   ],
   "source": [
    "data['DailyProfit'] = (data['Selling price'] - data['Buying price']) * data['Quantity sold']\n",
    "data['3DayAvgProfit'] = data['DailyProfit'].rolling(window=3).mean()\n",
    "print(data[['Date', 'DailyProfit', '3DayAvgProfit']])"
   ]
  },
  {
   "cell_type": "markdown",
   "id": "a2afb9ab",
   "metadata": {},
   "source": [
    "7.Additionally, provide insights into how this 3-day trend changes over the time period covered in the dataset."
   ]
  },
  {
   "cell_type": "code",
   "execution_count": 191,
   "id": "a2d326e9",
   "metadata": {},
   "outputs": [
    {
     "data": {
      "image/png": "[encoded data removed]",
      "text/plain": [
       "<Figure size 720x432 with 1 Axes>"
      ]
     },
     "metadata": {
      "needs_background": "light"
     },
     "output_type": "display_data"
    }
   ],
   "source": [
    "plt.figure(figsize=(10, 6))\n",
    "sns.lineplot(x=data['Date'], y=data['3DayAvgProfit'], marker='o', color='b', label='3-Day Avg Profit')\n",
    "plt.xlabel('Transaction Date')\n",
    "plt.ylabel('3-Day Average Profit')\n",
    "plt.title('3-Day Average Profit Trend Over Time')\n",
    "plt.xticks(rotation=45)\n",
    "plt.legend()\n",
    "plt.tight_layout()\n",
    "plt.show()"
   ]
  },
  {
   "cell_type": "markdown",
   "id": "a3eff043",
   "metadata": {},
   "source": [
    "8.Can you optimize the sales process to ensure gross margin is maximized?\n",
    "    a. Would you fire any vendor?\n",
    "    b. Would you let go of any customer? "
   ]
  },
  {
   "cell_type": "code",
   "execution_count": 192,
   "id": "7441dc94",
   "metadata": {},
   "outputs": [
    {
     "name": "stdout",
     "output_type": "stream",
     "text": [
      "Vendors to Consider Firing:\n",
      "['Vendor6', 'Vendor8']\n",
      "\n",
      "Customers to Consider Letting Go:\n",
      "['Customer5', 'Customer3']\n"
     ]
    }
   ],
   "source": [
    "data['Profit'] = (data['Selling price'] - data['Buying price']) * data['Quantity sold']\n",
    "\n",
    "vendor_profit = data.groupby('Firm bought from')['Profit'].sum()\n",
    "\n",
    "\n",
    "customer_profit = data.groupby('Customer')['Profit'].sum()\n",
    "\n",
    "sorted_vendors = vendor_profit.sort_values(ascending=False)\n",
    "sorted_customers = customer_profit.sort_values(ascending=False)\n",
    "\n",
    "bottom_20_vendors = sorted_vendors.tail(int(0.2 * len(sorted_vendors)))\n",
    "vendors_to_fire = bottom_20_vendors.index.tolist()\n",
    "\n",
    "bottom_20_customers = sorted_customers.tail(int(0.2 * len(sorted_customers)))\n",
    "customers_to_let_go = bottom_20_customers.index.tolist()\n",
    "\n",
    "print(\"Vendors to Consider Firing:\")\n",
    "print(vendors_to_fire)\n",
    "print(\"\\nCustomers to Consider Letting Go:\")\n",
    "print(customers_to_let_go)\n"
   ]
  },
  {
   "cell_type": "markdown",
   "id": "bdfa73e5",
   "metadata": {},
   "source": [
    "9.To ensure competitive pricing, Ram wants to benchmark their buying and selling prices against the market. Could you calculate the 25th, 50th (median), and 75th percentiles for both buying and selling prices? "
   ]
  },
  {
   "cell_type": "code",
   "execution_count": 193,
   "id": "52b91fee",
   "metadata": {},
   "outputs": [
    {
     "name": "stdout",
     "output_type": "stream",
     "text": [
      "Buying Price Percentiles (Q1, Median, Q3):\n",
      "Q1 (25th percentile): 29.9\n",
      "Median (50th percentile): 60.76\n",
      "Q3 (75th percentile): 78.32\n",
      "\n",
      "Selling Price Percentiles (Q1, Median, Q3):\n",
      "Q1 (25th percentile): 38.98\n",
      "Median (50th percentile): 78.99\n",
      "Q3 (75th percentile): 103.4\n"
     ]
    }
   ],
   "source": [
    "\n",
    "buying_price_percentiles = data['Buying price'].quantile([0.25, 0.5, 0.75])\n",
    "selling_price_percentiles = data['Selling price'].quantile([0.25, 0.5, 0.75])\n",
    "\n",
    "buying_price_percentiles = buying_price_percentiles.round(2)\n",
    "selling_price_percentiles = selling_price_percentiles.round(2)\n",
    "\n",
    "print('Buying Price Percentiles (Q1, Median, Q3):')\n",
    "print('Q1 (25th percentile):', buying_price_percentiles[0.25])\n",
    "print('Median (50th percentile):', buying_price_percentiles[0.5])\n",
    "print('Q3 (75th percentile):', buying_price_percentiles[0.75])\n",
    "\n",
    "print('\\nSelling Price Percentiles (Q1, Median, Q3):')\n",
    "print('Q1 (25th percentile):', selling_price_percentiles[0.25])\n",
    "print('Median (50th percentile):', selling_price_percentiles[0.5])\n",
    "print('Q3 (75th percentile):', selling_price_percentiles[0.75])"
   ]
  },
  {
   "cell_type": "markdown",
   "id": "5148bd2d",
   "metadata": {},
   "source": [
    "10.Additionally, analyze how often the Sapota’s prices fall below the 25th percentile or above the 75th percentile, potentially indicating they are buying at a high price or selling at a low price relative to their own transaction history."
   ]
  },
  {
   "cell_type": "code",
   "execution_count": 194,
   "id": "4c0e3db7",
   "metadata": {},
   "outputs": [
    {
     "name": "stdout",
     "output_type": "stream",
     "text": [
      "Number of Transactions where Sapota's Buying Price falls below Q1: 18\n",
      "Number of Transactions where Sapota's Buying Price exceeds Q3: 18\n",
      "Number of Transactions where Sapota's Selling Price falls below Q1: 18\n",
      "Number of Transactions where Sapota's Selling Price exceeds Q3: 18\n"
     ]
    }
   ],
   "source": [
    "buying_price_q1 = data['Buying price'].quantile(0.25)\n",
    "buying_price_q3 = data['Buying price'].quantile(0.75)\n",
    "selling_price_q1 = data['Selling price'].quantile(0.25)\n",
    "selling_price_q3 = data['Selling price'].quantile(0.75)\n",
    "\n",
    "below_q1_buying_price = len(data[data['Buying price'] < buying_price_q1])\n",
    "above_q3_buying_price = len(data[data['Buying price'] > buying_price_q3])\n",
    "below_q1_selling_price = len(data[data['Selling price'] < selling_price_q1])\n",
    "above_q3_selling_price = len(data[data['Selling price'] > selling_price_q3])\n",
    "\n",
    "\n",
    "print('Number of Transactions where Sapota\\'s Buying Price falls below Q1:', below_q1_buying_price)\n",
    "print('Number of Transactions where Sapota\\'s Buying Price exceeds Q3:', above_q3_buying_price)\n",
    "print('Number of Transactions where Sapota\\'s Selling Price falls below Q1:', below_q1_selling_price)\n",
    "print('Number of Transactions where Sapota\\'s Selling Price exceeds Q3:', above_q3_selling_price)"
   ]
  },
  {
   "cell_type": "markdown",
   "id": "aca1e7c5",
   "metadata": {},
   "source": [
    "11.Bharath says that Vendor 4 has to be honored.  What impact does it have on your optimal gross margin"
   ]
  },
  {
   "cell_type": "code",
   "execution_count": 195,
   "id": "b3b92bef",
   "metadata": {},
   "outputs": [
    {
     "name": "stdout",
     "output_type": "stream",
     "text": [
      "Total Profit Considering All Vendors: 31482.75\n",
      "Total Profit Considering Vendor 4 Alone: 6903.31\n",
      "Percentage of Vendor 4 alone contributes on Gross Margin from the Other 9 Vendors:22%\n"
     ]
    }
   ],
   "source": [
    "\n",
    "total_profit_all_vendors = ((data['Selling price'] - data['Buying price']) * data['Quantity sold']).sum()\n",
    "\n",
    "total_profit_vendor_4 = ((data[data['Firm bought from'] == \"Vendor4\"]['Selling price'] - data[data['Firm bought from'] == \"Vendor4\"]['Buying price']) * data[data['Firm bought from'] == \"Vendor4\"]['Quantity sold']).sum()\n",
    "\n",
    "\n",
    "impact_on_margin_percentage = ((total_profit_all_vendors - total_profit_vendor_4) / total_profit_all_vendors) * 100\n",
    "\n",
    "print('Total Profit Considering All Vendors:', round(total_profit_all_vendors,2))\n",
    "print('Total Profit Considering Vendor 4 Alone:', round(total_profit_vendor_4,2))\n",
    "print(\"Percentage of Vendor 4 alone contributes on Gross Margin from the Other 9 Vendors:{}%\".format(round(100 - impact_on_margin_percentage)))\n"
   ]
  },
  {
   "cell_type": "markdown",
   "id": "0979dc25",
   "metadata": {},
   "source": [
    "12 Which vendor should we have a strategic tie up so that we source only from them (the goal here is to have the highest gross margin)\n",
    "    - What’s the theoretical max margin the firm could have from that branch?"
   ]
  },
  {
   "cell_type": "code",
   "execution_count": 196,
   "id": "006c3c6d",
   "metadata": {},
   "outputs": [
    {
     "name": "stdout",
     "output_type": "stream",
     "text": [
      "Vendor with the Highest Gross Margin: Vendor9\n",
      "Gross Margin: 49.98%\n",
      "Theoretical Maximum Margin if sourcing only from this vendor: 49.98%\n"
     ]
    }
   ],
   "source": [
    "data['GrossMargin'] = (data['Selling price'] - data['Buying price']) / data['Buying price'] * 100\n",
    "\n",
    "\n",
    "max_margin_vendor = data.loc[data['GrossMargin'].idxmax()]\n",
    "\n",
    "\n",
    "theoretical_max_margin = ((max_margin_vendor['Selling price'] - max_margin_vendor['Buying price']) / max_margin_vendor['Buying price']) * 100\n",
    "\n",
    "\n",
    "print('Vendor with the Highest Gross Margin:',max_margin_vendor['Firm bought from'])\n",
    "print('Gross Margin: {:.2f}%'.format(max_margin_vendor['GrossMargin']))\n",
    "print('Theoretical Maximum Margin if sourcing only from this vendor: {:.2f}%'.format(theoretical_max_margin))"
   ]
  },
  {
   "cell_type": "markdown",
   "id": "6890d31c",
   "metadata": {},
   "source": [
    "13. Given this is the ground truth, what is the price elasticity of Sapota for that branch? (If you increase by Rs.1, how much sales will go up/down and if you decrease price by Rs. 1, how much sales will go up/down)"
   ]
  },
  {
   "cell_type": "code",
   "execution_count": 197,
   "id": "87029c8d",
   "metadata": {},
   "outputs": [
    {
     "name": "stdout",
     "output_type": "stream",
     "text": [
      "Price Elasticity of Sapota for Vendor9 (Increase by Rs. 1): 0.9999999999999996\n",
      "Price Elasticity of Sapota for Vendor9 (Decrease by Rs. 1): 0.9999999999999996\n"
     ]
    }
   ],
   "source": [
    "\n",
    "data = data[data[\"Firm bought from\"]==\"Vendor9\"]\n",
    "\n",
    "\n",
    "original_quantity_sold = data['Quantity sold'].sum()\n",
    "original_selling_price = data['Selling price'].mean()\n",
    "\n",
    "\n",
    "new_selling_price_increase = original_selling_price + 1\n",
    "new_quantity_sold_increase = (original_quantity_sold * new_selling_price_increase) / original_selling_price\n",
    "\n",
    "\n",
    "percentage_change_quantity_sold = ((new_quantity_sold_increase - original_quantity_sold) / original_quantity_sold) * 100\n",
    "percentage_change_selling_price = ((new_selling_price_increase - original_selling_price) / original_selling_price) * 100\n",
    "price_elasticity_increase = percentage_change_quantity_sold / percentage_change_selling_price\n",
    "\n",
    "\n",
    "new_selling_price_decrease = original_selling_price - 1\n",
    "new_quantity_sold_decrease = (original_quantity_sold * new_selling_price_decrease) / original_selling_price\n",
    "\n",
    "\n",
    "percentage_change_quantity_sold = ((new_quantity_sold_decrease - original_quantity_sold) / original_quantity_sold) * 100\n",
    "percentage_change_selling_price = ((new_selling_price_decrease - original_selling_price) / original_selling_price) * 100\n",
    "price_elasticity_decrease = percentage_change_quantity_sold / percentage_change_selling_price\n",
    "\n",
    "\n",
    "print('Price Elasticity of Sapota for Vendor9 (Increase by Rs. 1):', price_elasticity_increase)\n",
    "print('Price Elasticity of Sapota for Vendor9 (Decrease by Rs. 1):', price_elasticity_decrease)\n"
   ]
  },
  {
   "cell_type": "code",
   "execution_count": null,
   "id": "67b30a1a",
   "metadata": {},
   "outputs": [],
   "source": []
  }
 ],
 "metadata": {
  "kernelspec": {
   "display_name": "Python 3 (ipykernel)",
   "language": "python",
   "name": "python3"
  },
  "language_info": {
   "codemirror_mode": {
    "name": "ipython",
    "version": 3
   },
   "file_extension": ".py",
   "mimetype": "text/x-python",
   "name": "python",
   "nbconvert_exporter": "python",
   "pygments_lexer": "ipython3",
   "version": "3.9.7"
  }
 },
 "nbformat": 4,
 "nbformat_minor": 5
}
